{
  "nbformat": 4,
  "nbformat_minor": 0,
  "metadata": {
    "colab": {
      "name": "Amazon web scrapping.ipynb",
      "provenance": [],
      "collapsed_sections": []
    },
    "kernelspec": {
      "name": "python3",
      "display_name": "Python 3"
    },
    "language_info": {
      "name": "python"
    }
  },
  "cells": [
    {
      "cell_type": "markdown",
      "metadata": {
        "id": "dxUP45vw1jP_"
      },
      "source": [
        "##Amazon web scrapping"
      ]
    },
    {
      "cell_type": "code",
      "metadata": {
        "id": "t3lTEO2o2aea",
        "colab": {
          "base_uri": "https://localhost:8080/"
        },
        "outputId": "0ad2dd0d-3757-4bd2-b13c-7a1de1b85000"
      },
      "source": [
        "#microsoft edge\n",
        "!pip install msedge-selenium-tools selenium==3.141\n",
        "from msedge.selenium_tools import Edge, EdgeOptions"
      ],
      "execution_count": null,
      "outputs": [
        {
          "output_type": "stream",
          "text": [
            "Requirement already satisfied: msedge-selenium-tools in /usr/local/lib/python3.7/dist-packages (3.141.3)\n",
            "Requirement already satisfied: selenium==3.141 in /usr/local/lib/python3.7/dist-packages (3.141.0)\n",
            "Requirement already satisfied: urllib3 in /usr/local/lib/python3.7/dist-packages (from selenium==3.141) (1.24.3)\n"
          ],
          "name": "stdout"
        }
      ]
    },
    {
      "cell_type": "markdown",
      "metadata": {
        "id": "9WJ4RgQKWiOI"
      },
      "source": [
        "#Driver setup"
      ]
    },
    {
      "cell_type": "code",
      "metadata": {
        "id": "ygI9TuFmWnbQ"
      },
      "source": [
        "import csv\n",
        "from bs4 import BeautifulSoup\n",
        "!apt update\n",
        "!apt install chromium-chromedriver\n",
        "!pip install selenium\n",
        "# set options to be headless, ..\n",
        "from selenium import webdriver\n",
        "options = webdriver.ChromeOptions()\n",
        "options.add_argument('--headless')\n",
        "options.add_argument('--no-sandbox')\n",
        "options.add_argument('--disable-dev-shm-usage')\n"
      ],
      "execution_count": null,
      "outputs": []
    },
    {
      "cell_type": "markdown",
      "metadata": {
        "id": "zT2PidqGyRPJ"
      },
      "source": [
        "#Query generator"
      ]
    },
    {
      "cell_type": "code",
      "metadata": {
        "colab": {
          "base_uri": "https://localhost:8080/"
        },
        "id": "V5gCgpWHtWVe",
        "outputId": "5710c85b-69ae-4746-e032-13e1301b77a3"
      },
      "source": [
        "def get_url(search_term):\n",
        "  \"\"\"Generate a url from search term\"\"\"\n",
        "  template = 'https://www.amazon.com/s?k={}&ref=nb_sb_noss_1'\n",
        "  search_term = search_term.replace(' ','+')\n",
        "  url = template.format(search_term)\n",
        "  #https://www.amazon.com/s?k=curved+monitor&page=3&qid=1617027061&ref=sr_pg_3\n",
        "  url +='&page{}'\n",
        "  return url\n",
        "test_url = get_url('curve monitor')\n",
        "print(test_url)"
      ],
      "execution_count": 26,
      "outputs": [
        {
          "output_type": "stream",
          "text": [
            "https://www.amazon.com/s?k=curve+monitor&ref=nb_sb_noss_1&page{}\n"
          ],
          "name": "stdout"
        }
      ]
    },
    {
      "cell_type": "markdown",
      "metadata": {
        "id": "5n-s_5Z4yePl"
      },
      "source": [
        "#return results"
      ]
    },
    {
      "cell_type": "code",
      "metadata": {
        "id": "Nrp1S55dzK0f"
      },
      "source": [
        "def extract_record(item):\n",
        "  \"\"\"extract and return data from a single record\"\"\"\n",
        "  atag = item.h2.a\n",
        "  description = atag.text.strip()\n",
        "  item_url = 'https://www.amazon.com/' + atag.get('href')\n",
        "  try:\n",
        "    price = item.find('span','a-offscreen').text\n",
        "  except AttributeError:\n",
        "    return\n",
        "  try:\n",
        "    rating = item.i.text.split()[0]\n",
        "    review_count = item.find('span',{'class':'a-size-base','dir':'auto'}).text\n",
        "  except AttributeError:\n",
        "    rating = ''\n",
        "    review_count = ''\n",
        "  result = [description,price,rating,review_count,item_url]\n",
        "  return result"
      ],
      "execution_count": 40,
      "outputs": []
    },
    {
      "cell_type": "markdown",
      "metadata": {
        "id": "xMCATSSrziNO"
      },
      "source": [
        "#Write in CSV"
      ]
    },
    {
      "cell_type": "code",
      "metadata": {
        "id": "fnyUdOVOzrAw"
      },
      "source": [
        "def write_to_csv(records):\n",
        "  with open('amazon_results.csv','w',newline='',encoding='utf-8') as f:\n",
        "    writer = csv.writer(f)\n",
        "    writer.writerow(['Description','Price','Rating','Review','Url'])\n",
        "    writer.writerows(records)"
      ],
      "execution_count": 41,
      "outputs": []
    },
    {
      "cell_type": "markdown",
      "metadata": {
        "id": "R2h199WR3gPA"
      },
      "source": [
        "Putting it together"
      ]
    },
    {
      "cell_type": "code",
      "metadata": {
        "id": "_0mIGwlKz_0r"
      },
      "source": [
        "def main(search_term):\n",
        "  driver = webdriver.Chrome(options=options)\n",
        "  records = []\n",
        "  url =get_url(search_term)\n",
        "  for page in range(1,21):\n",
        "    driver.get(url.format(page))\n",
        "    soup = BeautifulSoup(driver.page_source,'lxml')\n",
        "    results = soup.find_all('div',{'data-component-type':'s-search-result'})\n",
        "    for item in results:\n",
        "      single_record =extract_record(item)\n",
        "      if single_record:\n",
        "        records.append(single_record)\n",
        "  driver.close()\n",
        "  write_to_csv(records)\n",
        "  print(len(records))\n"
      ],
      "execution_count": 42,
      "outputs": []
    },
    {
      "cell_type": "code",
      "metadata": {
        "colab": {
          "base_uri": "https://localhost:8080/"
        },
        "id": "hsOZvnja1A1N",
        "outputId": "22bc5e7f-0444-40e6-e759-3117f283bb2d"
      },
      "source": [
        "main('curved monitor')"
      ],
      "execution_count": 43,
      "outputs": [
        {
          "output_type": "stream",
          "text": [
            "440\n"
          ],
          "name": "stdout"
        }
      ]
    }
  ]
}